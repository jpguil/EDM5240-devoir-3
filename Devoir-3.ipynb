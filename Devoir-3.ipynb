{
 "cells": [
  {
   "cell_type": "markdown",
   "metadata": {},
   "source": [
    "# Quel organisme du gouvernement canadien est le plus interrogé selon la Loi de l'accès à l'information?"
   ]
  },
  {
   "cell_type": "code",
   "execution_count": 29,
   "metadata": {
    "collapsed": true
   },
   "outputs": [],
   "source": [
    "%matplotlib inline\n",
    "import pandas as pd\n",
    "import numpy as np\n",
    "import matplotlib as mp"
   ]
  },
  {
   "cell_type": "code",
   "execution_count": 30,
   "metadata": {
    "collapsed": false
   },
   "outputs": [],
   "source": [
    "fed = pd.read_csv(\"ati.csv\")"
   ]
  },
  {
   "cell_type": "code",
   "execution_count": 31,
   "metadata": {
    "collapsed": false
   },
   "outputs": [
    {
     "data": {
      "text/plain": [
       "National Defence | Défense nationale                                                                                                                             9.058664\n",
       "Global Affairs Canada | Affaires mondiales Canada                                                                                                                5.737733\n",
       "Employment and Social Development Canada | Emploi et Développement social Canada                                                                                 5.358695\n",
       "Immigration, Refugees and Citizenship Canada | Immigration, Réfugiés et Citoyenneté Canada                                                                       4.600619\n",
       "Health Canada | Santé Canada                                                                                                                                     4.047710\n",
       "Royal Canadian Mounted Police | Gendarmerie royale du Canada                                                                                                     3.898181\n",
       "Public Services and Procurement Canada | Services publics et Approvisionnement Canada                                                                            3.880794\n",
       "Canada Revenue Agency | Agence du revenu du Canada                                                                                                               3.637375\n",
       "Transport Canada | Transports Canada                                                                                                                             3.567827\n",
       "Department of Finance Canada | Ministère des Finances Canada                                                                                                     3.515666\n",
       "Privy Council Office | Bureau du Conseil privé                                                                                                                   3.466982\n",
       "Indigenous and Northern Affairs Canada | Affaires autochtones et du Nord Canada                                                                                  3.167924\n",
       "Library and Archives Canada | Bibliothèque et Archives Canada                                                                                                    3.119241\n",
       "Innovation, Science and Economic Development Canada | Innovation, Sciences et Développement économique Canada                                                    3.105331\n",
       "Canada Border Services Agency | Agence des services frontaliers du Canada                                                                                        3.032305\n",
       "Natural Resources Canada | Ressources naturelles Canada                                                                                                          2.722815\n",
       "Department of Justice | Ministère de la Justice                                                                                                                  2.562854\n",
       "Fisheries and Oceans Canada | Pêches et Océans Canada                                                                                                            2.479396\n",
       "Canadian Heritage | Patrimoine canadien                                                                                                                          2.215113\n",
       "Public Safety Canada | Sécurité publique Canada                                                                                                                  2.180339\n",
       "Environment and Climate Change Canada | Environnement et Changement climatique Canada                                                                            2.142087\n",
       "Treasury Board of Canada Secretariat | Secrétariat du Conseil du Trésor du Canada                                                                                2.009945\n",
       "Canadian Food Inspection Agency | Agence canadienne d'inspection des aliments                                                                                    1.731752\n",
       "Correctional Service of Canada | Service correctionnel du Canada                                                                                                 1.460514\n",
       "Veterans Affairs Canada | Anciens Combattants Canada                                                                                                             1.293598\n",
       "Shared Services Canada | Services partagés Canada                                                                                                                1.203185\n",
       "Canadian Security Intelligence Service | Service canadien du renseignement de sécurité                                                                           1.164934\n",
       "Infrastructure Canada | Infrastructure Canada                                                                                                                    0.984108\n",
       "Canadian Nuclear Safety Commission | Commission canadienne de sûreté nucléaire                                                                                   0.883263\n",
       "Agriculture and Agri-Food Canada | Agriculture et Agroalimentaire Canada                                                                                         0.851966\n",
       "                                                                                                                                                                   ...   \n",
       "Western Economic Diversification Canada | Diversification de l'économie de l'Ouest Canada                                                                        0.048684\n",
       "Jacques Cartier and Champlain Bridges Incorporated | Les Ponts Jacques-Cartier et Champlain Incorporée                                                           0.041729\n",
       "Office of the Commissioner of Lobbying of Canada | Commissariat au lobbying du Canada                                                                            0.041729\n",
       "Canadian Northern Economic Development Agency | Agence canadienne de développement économique du Nord                                                            0.038252\n",
       "Patented Medicine Prices Review Board Canada | Conseil d'examen du prix des médicaments brevetés Canada                                                          0.038252\n",
       "Veterans Review and Appeal Board | Tribunal des anciens combattants (révision et appel)                                                                          0.034774\n",
       "Business Development Bank of Canada | Banque de développement du Canada                                                                                          0.031297\n",
       "Public Sector Pension Investment Board | Office d’investissement des régimes de pensions du secteur public                                                       0.027819\n",
       "Civilian Review and Complaints Commission for the RCMP | Commission civile d'examen et de traitement des plaintes relatives à la Gendarmerie royale du Canada    0.024342\n",
       "Financial Consumer Agency of Canada | Agence de la consommation en matière financière du Canada                                                                  0.024342\n",
       "Windsor-Detroit Bridge Authority | Autorité du pont Windsor-Détroit                                                                                              0.024342\n",
       "Pierre Elliott Trudeau Foundation | Fondation Pierre Elliott Trudeau                                                                                             0.024342\n",
       "Prince Rupert Port Authority | L’Administration portuaire de Prince Rupert                                                                                       0.017387\n",
       "Canada Deposit Insurance Corporation | Société d'assurance-dépôts du Canada                                                                                      0.013910\n",
       "RCMP External Review Committee | Comité externe d'examen de la GRC                                                                                               0.013910\n",
       "Office of the Public Sector Integrity Commissioner of Canada | Commissariat à l'intégrité du secteur public du Canada                                            0.010432\n",
       "Military Grievances External Review Committee | Comité externe d’examen des griefs militaires                                                                    0.010432\n",
       "Great Lakes Pilotage Authority Canada | Administration de pilotage des Grands Lacs Canada                                                                        0.010432\n",
       "Farm Credit Canada | Financement agricole Canada                                                                                                                 0.010432\n",
       "Telefilm Canada | Téléfilm Canada                                                                                                                                0.006955\n",
       "Destination Canada | Destination Canada                                                                                                                          0.006955\n",
       "Asia-Pacific Foundation of Canada | Fondation Asie Pacifique du Canada                                                                                           0.006955\n",
       "Northern Pipeline Agency Canada | Administration du pipe-line du Nord Canada                                                                                     0.006955\n",
       "Canada Foundation for Innovation | Fondation canadienne pour l’innovation                                                                                        0.006955\n",
       "Canada Science and Technology Museum | Musée des sciences et de la technologie du Canada                                                                         0.006955\n",
       "Ship-source Oil Pollution Fund  | Caisse d'indemnisation des dommages dus à la pollution par les hydrocarbures causée par les navires                            0.006955\n",
       "National Defence and Canadian Forces Ombudsman | Ombudsman de la Défense nationale et des Forces canadiennes                                                     0.003477\n",
       "Canadian Museum of Immigration at Pier 21 | Musée canadien de l'immigration du Quai 21                                                                           0.003477\n",
       "Canadian Grain Commission | Commission canadienne des grains                                                                                                     0.003477\n",
       "Farm Products Council of Canada | Conseil des produits agricoles du Canada                                                                                       0.003477\n",
       "Name: owner_org_title, dtype: float64"
      ]
     },
     "execution_count": 31,
     "metadata": {},
     "output_type": "execute_result"
    }
   ],
   "source": [
    "fed.owner_org_title.value_counts() / len(fed.owner_org_title)*100"
   ]
  },
  {
   "cell_type": "markdown",
   "metadata": {
    "collapsed": true
   },
   "source": [
    "Depuis 2015, c'est la Défense nationale du Canada qui a fait l'objet d'un peu moins de 10% des demandes d'accès à l'information. Suivie par les Affaires mondiales Canada (5,7%) et Emploi et Développement social Canada (5,3%)."
   ]
  },
  {
   "cell_type": "code",
   "execution_count": 32,
   "metadata": {
    "collapsed": false
   },
   "outputs": [
    {
     "data": {
      "text/plain": [
       "Disclosed in part / Communication partielle                                                                                                                                                                         8653\n",
       "All disclosed / Communication totale                                                                                                                                                                                2907\n",
       "Disclosed in part                                                                                                                                                                                                   1946\n",
       "No records exist / Aucun document n'existe                                                                                                                                                                           883\n",
       "Disclosed in part / Communication partielle                                                                                                                                                                          870\n",
       "All disclosed                                                                                                                                                                                                        845\n",
       "Disclosed in Part / Communication partielle                                                                                                                                                                          712\n",
       "Disclosed in part / Divulgation partielle                                                                                                                                                                            692\n",
       "Disclosed in part/Divulgation partielle                                                                                                                                                                              681\n",
       "Disclosed in part/Communication partielle                                                                                                                                                                            606\n",
       "Does not exist / Aucun document existe                                                                                                                                                                               474\n",
       "Disclosed in part / Divulgué en partie                                                                                                                                                                               302\n",
       "All Disclosed / Communication totale                                                                                                                                                                                 293\n",
       "No records exist / Aucun document n’existe                                                                                                                                                                           275\n",
       "Does not exist / Aucun document                                                                                                                                                                                      274\n",
       "Does not exist                                                                                                                                                                                                       246\n",
       "DISCLOSED IN PART / COMMUNICATION PARTIELLE                                                                                                                                                                          235\n",
       "All disclosed / Communication complète                                                                                                                                                                               214\n",
       "Does not exist/Inexistant                                                                                                                                                                                            213\n",
       "Disclosed in part/ Communication partielle                                                                                                                                                                           207\n",
       "All disclosed/Communication totale                                                                                                                                                                                   194\n",
       "All disclosed / Divulgation complète                                                                                                                                                                                 190\n",
       "Does not exist / Aucun document n’existe                                                                                                                                                                             181\n",
       "All disclosed/ Communication intégrale                                                                                                                                                                               175\n",
       "No records exist                                                                                                                                                                                                     173\n",
       "No Records / Aucun document n'existe                                                                                                                                                                                 172\n",
       "Does not exist / Aucun document à cet effet                                                                                                                                                                          154\n",
       "No records exist / Aucun document existant                                                                                                                                                                           143\n",
       "Does not exist/ Aucun document n’existe                                                                                                                                                                              135\n",
       "Does not exist / Aucun document existe                                                                                                                                                                               133\n",
       "                                                                                                                                                                                                                    ... \n",
       "Tous les dossiers liés aux documents financiers à l’étranger que les médias ont rendu publics le 3 ou le 4 avril 2013, ou autour de ces dates.                                                                         1\n",
       "August 9, 2016                                                                                                                                                                                                         1\n",
       "All disclosed / Entièrement divulgué                                                                                                                                                                                   1\n",
       " No information disclosed (no records exist)/Aucune communication (aucun document n’existe)                                                                                                                            1\n",
       "Disclosed in part /                                        Divulgation en partie                                                                                                                                       1\n",
       "Diclosed in part/Communication partielle                                                                                                                                                                               1\n",
       "Nothing Disclosed (Exemptions) / Aucune communication (Exemptions) (Exemptions)                                                                                                                                        1\n",
       "Nothing disclosed (exempted) / Aucune divulgation (exemption)\\n                                                                                                                                                        1\n",
       "Dislcosed in part / Communication partielle                                                                                                                                                                            1\n",
       "No records exist /Aucun document n'existe                                                                                                                                                                              1\n",
       "Nothing disclosed (exemption) / Rien n'a été divulgué                                                                                                                                                                  1\n",
       "Transferred / Transmission                                                                                                                                                                                             1\n",
       "2016-03-16                                                                                                                                                                                                             1\n",
       "Disclosed in full/Information complète.                                                                                                                                                                                1\n",
       "Disclosed existing records, except for sections containing personal information (subsection 19(1)). / Documents existants divulgués sauf pour les sections contenant des renseignements personnels (para 19(1)).       1\n",
       "No records exist / Documents n'existe pas                                                                                                                                                                              1\n",
       "Disclosed in part/ Communication partielle                                                                                                                                                                             1\n",
       "All disclosed/Information complète.                                                                                                                                                                                    1\n",
       "Aucune divulgation / All exempted                                                                                                                                                                                      1\n",
       "Nothing Disclosed (all exempted)/Rien n’a été divulgué (exception)                                                                                                                                                     1\n",
       "All exempted/ tous exclus                                                                                                                                                                                              1\n",
       "Nothing disclosed (exclusion, published material or material available for purchase) / Rien n’a été divulgué (exclusion, documents publiés ou mis en vente dans le public)                                             1\n",
       "Disclosed in part / Communcation partielle                                                                                                                                                                             1\n",
       "Disclosed in part - exemption 20(1)c) on 3 pages / Communication partielle - Trois pages exemptées sous 20(1)c)                                                                                                        1\n",
       "All disclosed/ Divulgation complète                                                                                                                                                                                    1\n",
       "15-02-2016                                                                                                                                                                                                             1\n",
       "No Records Exist / Aucun document n'existe                                                                                                                                                                             1\n",
       "Publicly available./Publiquement disponible.                                                                                                                                                                           1\n",
       "Nothing Disclosed (excluded)/Rien n’a été divulgué (exclus)                                                                                                                                                            1\n",
       "NHQ Release Refused                                                                                                                                                                                                    1\n",
       "Name: disposition, dtype: int64"
      ]
     },
     "execution_count": 32,
     "metadata": {},
     "output_type": "execute_result"
    }
   ],
   "source": [
    "fed.disposition.value_counts()"
   ]
  },
  {
   "cell_type": "markdown",
   "metadata": {
    "collapsed": true
   },
   "source": [
    "La plupart des demandes d'accès à l'information se sont soldées par une divulgation partielle ou totale de celle-ci par l'organisme fédéral."
   ]
  },
  {
   "cell_type": "code",
   "execution_count": 33,
   "metadata": {
    "collapsed": false
   },
   "outputs": [],
   "source": [
    "divulgue = fed.disposition == \"All disclosed\""
   ]
  },
  {
   "cell_type": "code",
   "execution_count": 34,
   "metadata": {
    "collapsed": false
   },
   "outputs": [
    {
     "data": {
      "text/plain": [
       "Employment and Social Development Canada | Emploi et Développement social Canada                                                                                 420\n",
       "Public Services and Procurement Canada | Services publics et Approvisionnement Canada                                                                            238\n",
       "Fisheries and Oceans Canada | Pêches et Océans Canada                                                                                                             66\n",
       "Correctional Service of Canada | Service correctionnel du Canada                                                                                                  22\n",
       "Canada Revenue Agency | Agence du revenu du Canada                                                                                                                17\n",
       "Environment and Climate Change Canada | Environnement et Changement climatique Canada                                                                             16\n",
       "Royal Canadian Mounted Police | Gendarmerie royale du Canada                                                                                                      12\n",
       "Office of the Privacy Commissioner of Canada | Commissariats à l’information et à la protection de la vie privée au Canada                                         9\n",
       "Immigration, Refugees and Citizenship Canada | Immigration, Réfugiés et Citoyenneté Canada                                                                         8\n",
       "Office of the Superintendent of Financial Institutions Canada | Bureau du surintendant des institutions financières Canada                                         4\n",
       "Windsor-Detroit Bridge Authority | Autorité du pont Windsor-Détroit                                                                                                3\n",
       "Canada Council for the Arts | Conseil des arts du Canada                                                                                                           3\n",
       "Business Development Bank of Canada | Banque de développement du Canada                                                                                            3\n",
       "National Research Council Canada | Conseil national de recherches Canada                                                                                           3\n",
       "Canadian Transportation Agency | Office des transports du Canada                                                                                                   2\n",
       "Canadian Air Transport Security Authority | Administration canadienne de la sûreté du transport aérien                                                             2\n",
       "Shared Services Canada | Services partagés Canada                                                                                                                  2\n",
       "Privy Council Office | Bureau du Conseil privé                                                                                                                     2\n",
       "Financial Transactions and Reports Analysis Centre of Canada | Centre d'analyse des opérations et déclarations financières du Canada                               2\n",
       "Defence Construction Canada | Construction de Défense Canada                                                                                                       2\n",
       "Great Lakes Pilotage Authority Canada | Administration de pilotage des Grands Lacs Canada                                                                          1\n",
       "Agriculture and Agri-Food Canada | Agriculture et Agroalimentaire Canada                                                                                           1\n",
       "Civilian Review and Complaints Commission for the RCMP | Commission civile d'examen et de traitement des plaintes relatives à la Gendarmerie royale du Canada      1\n",
       "RCMP External Review Committee | Comité externe d'examen de la GRC                                                                                                 1\n",
       "Parole Board of Canada | Commission des libérations conditionnelles du Canada                                                                                      1\n",
       "Canadian Northern Economic Development Agency | Agence canadienne de développement économique du Nord                                                              1\n",
       "Canada Foundation for Innovation | Fondation canadienne pour l’innovation                                                                                          1\n",
       "Transportation Safety Board of Canada | Bureau de la sécurité des transports du Canada                                                                             1\n",
       "Pierre Elliott Trudeau Foundation | Fondation Pierre Elliott Trudeau                                                                                               1\n",
       "Name: owner_org_title, dtype: int64"
      ]
     },
     "execution_count": 34,
     "metadata": {},
     "output_type": "execute_result"
    }
   ],
   "source": [
    "fed[divulgue].owner_org_title.value_counts()"
   ]
  },
  {
   "cell_type": "markdown",
   "metadata": {},
   "source": [
    "Emploi et Développement social Canada est l'organisme – à première vue – qui dévoile le plus d'information à la suite de demande d'accès en vertu de la Loi."
   ]
  }
 ],
 "metadata": {
  "kernelspec": {
   "display_name": "Python 2",
   "language": "python",
   "name": "python2"
  },
  "language_info": {
   "codemirror_mode": {
    "name": "ipython",
    "version": 2
   },
   "file_extension": ".py",
   "mimetype": "text/x-python",
   "name": "python",
   "nbconvert_exporter": "python",
   "pygments_lexer": "ipython2",
   "version": "2.7.13"
  }
 },
 "nbformat": 4,
 "nbformat_minor": 2
}
